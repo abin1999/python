{
  "nbformat": 4,
  "nbformat_minor": 0,
  "metadata": {
    "colab": {
      "name": "python cycle3.ipynb",
      "provenance": [],
      "collapsed_sections": []
    },
    "kernelspec": {
      "name": "python3",
      "display_name": "Python 3"
    }
  },
  "cells": [
    {
      "cell_type": "code",
      "metadata": {
        "colab": {
          "base_uri": "https://localhost:8080/"
        },
        "id": "1ZdL76X0icpn",
        "outputId": "13f62bc9-169d-4014-812c-7ee6db8330d3"
      },
      "source": [
        "#Find the factorial of a number\r\n",
        "n=int(input(\"Enter the number:\"))\r\n",
        "fac=1\r\n",
        "while(n>0):\r\n",
        "    fac=fac*n\r\n",
        "    n=n-1\r\n",
        "print(\"Factorial is:\",fac)"
      ],
      "execution_count": 4,
      "outputs": [
        {
          "output_type": "stream",
          "text": [
            "Enter the number:4\n",
            "Factorial is: 24\n"
          ],
          "name": "stdout"
        }
      ]
    },
    {
      "cell_type": "code",
      "metadata": {
        "colab": {
          "base_uri": "https://localhost:8080/"
        },
        "id": "Slqmnfp8mV3d",
        "outputId": "ad93dd4b-37c2-41c6-a401-fe1ad38f36eb"
      },
      "source": [
        "#Fibonacci series of N terms\r\n",
        "n=int(input(\"Enter the number:\"))\r\n",
        "x=0\r\n",
        "y=1\r\n",
        "z=0\r\n",
        "while(z<=n):\r\n",
        "    print(z)\r\n",
        "    x=y\r\n",
        "    y=z\r\n",
        "    z=x+y"
      ],
      "execution_count": 10,
      "outputs": [
        {
          "output_type": "stream",
          "text": [
            "Enter the number:4\n",
            "0\n",
            "1\n",
            "1\n",
            "2\n",
            "3\n"
          ],
          "name": "stdout"
        }
      ]
    },
    {
      "cell_type": "code",
      "metadata": {
        "colab": {
          "base_uri": "https://localhost:8080/"
        },
        "id": "_7hQjKg4qRac",
        "outputId": "e5cae1b0-4f91-463f-ad34-26390b4ed7ec"
      },
      "source": [
        "#Find the sum of all items in a list\r\n",
        "list=[9,12,25,40,35]\r\n",
        "total=0\r\n",
        "for i in range(0,len(list)):\r\n",
        "    total=total+list[i]\r\n",
        "print(\"Sum of all elements in given list is:\",total)"
      ],
      "execution_count": 12,
      "outputs": [
        {
          "output_type": "stream",
          "text": [
            "Sum of all elements in given list is: 121\n"
          ],
          "name": "stdout"
        }
      ]
    },
    {
      "cell_type": "code",
      "metadata": {
        "colab": {
          "base_uri": "https://localhost:8080/"
        },
        "id": "sJyOg2uoq5wE",
        "outputId": "21bcd521-116b-4878-d317-f807afde4255"
      },
      "source": [
        "#Generate a list of four digit numbers in a given range with all their digits even and the number is a perfect square.\r\n",
        "a=int(input(\"Enter the lower digit:\"))\r\n",
        "b=int(input(\"Enter the upper digit:\"))\r\n",
        "import random\r\n",
        "print(random.randint(a,b))\r\n",
        "c=[]\r\n",
        "c=[x for x in range(a,b)if(int(x**0.5)**2==x and int(x%2==0))]\r\n",
        "print(c)"
      ],
      "execution_count": 15,
      "outputs": [
        {
          "output_type": "stream",
          "text": [
            "Enter the lower digit:1000\n",
            "Enter the upper digit:1200\n",
            "1153\n",
            "[1024, 1156]\n"
          ],
          "name": "stdout"
        }
      ]
    },
    {
      "cell_type": "code",
      "metadata": {
        "colab": {
          "base_uri": "https://localhost:8080/"
        },
        "id": "m3BxwKpRrOT_",
        "outputId": "7523f00a-a2cc-4fcc-8006-ab3979bea0fa"
      },
      "source": [
        "#Display the given pyramid with step number entered by the user.\r\n",
        "def py(n):\r\n",
        "    x=1\r\n",
        "    for i in range(1,n+1):\r\n",
        "        for j in range(1,i+1):\r\n",
        "            print(x, end=\" \")\r\n",
        "            x=x+i\r\n",
        "        x=i+1\r\n",
        "        print(\"\\r\")\r\n",
        "n=int(input(\"Enter the limit:\"))\r\n",
        "py(n)\r\n"
      ],
      "execution_count": 17,
      "outputs": [
        {
          "output_type": "stream",
          "text": [
            "Enter the limit:8\n",
            "1 \n",
            "2 4 \n",
            "3 6 9 \n",
            "4 8 12 16 \n",
            "5 10 15 20 25 \n",
            "6 12 18 24 30 36 \n",
            "7 14 21 28 35 42 49 \n",
            "8 16 24 32 40 48 56 64 \n"
          ],
          "name": "stdout"
        }
      ]
    },
    {
      "cell_type": "code",
      "metadata": {
        "colab": {
          "base_uri": "https://localhost:8080/"
        },
        "id": "0Yd5Gfjir-jI",
        "outputId": "1b2cee8f-acaf-42ea-f3ab-78b4598b8e82"
      },
      "source": [
        "#Count the number of character in a string or character frequency.\r\n",
        "str=\"The number of character character in a string or character frequency\"\r\n",
        "substr=\"character\"\r\n",
        "count=str.count(substr)\r\n",
        "print(\"The  number of character occurence is: \",count)"
      ],
      "execution_count": 19,
      "outputs": [
        {
          "output_type": "stream",
          "text": [
            "The  number of character occurence is:  3\n"
          ],
          "name": "stdout"
        }
      ]
    },
    {
      "cell_type": "code",
      "metadata": {
        "colab": {
          "base_uri": "https://localhost:8080/"
        },
        "id": "grUFndSrsT-d",
        "outputId": "e8a3e2da-6f8f-4679-e800-6f2702d42ac9"
      },
      "source": [
        "#Add 'ing' to the end of the given string.if it already ends with 'ing',then add 'ly',\r\n",
        "def add_ing(str):\r\n",
        "    length=len(str)\r\n",
        "    if length>3:\r\n",
        "        if str[-3:]=='ing':\r\n",
        "            str+='ly'\r\n",
        "        else:\r\n",
        "            str+='ing'\r\n",
        "    return str            \r\n",
        "print(add_ing('calling'))"
      ],
      "execution_count": 23,
      "outputs": [
        {
          "output_type": "stream",
          "text": [
            "callingly\n"
          ],
          "name": "stdout"
        }
      ]
    },
    {
      "cell_type": "code",
      "metadata": {
        "colab": {
          "base_uri": "https://localhost:8080/"
        },
        "id": "eGFRpfxzs5rU",
        "outputId": "211a3373-8f2d-49bb-d407-eef07c1dba8d"
      },
      "source": [
        "#Accept a list of word and return the length of the longest word.\r\n",
        "a=['eggs','sun','tomorrow']\r\n",
        "print(a)\r\n",
        "length1=len(a[0])\r\n",
        "length2=len(a[1])\r\n",
        "length3=len(a[2])\r\n",
        "if length1>length2:\r\n",
        "    if length1>length3:\r\n",
        "        print(\"The length of longest word\",length1)\r\n",
        "    else:\r\n",
        "        print(\"The length of longest word\",length3)\r\n",
        "elif length2>length1:\r\n",
        "    if length2>length3:\r\n",
        "        print(\"The length of longest word\",length2)\r\n",
        "    else:\r\n",
        "        print(\"The length of longest word\",length3)"
      ],
      "execution_count": 25,
      "outputs": [
        {
          "output_type": "stream",
          "text": [
            "['eggs', 'sun', 'tomorrow']\n",
            "The length of longest word 8\n"
          ],
          "name": "stdout"
        }
      ]
    },
    {
      "cell_type": "code",
      "metadata": {
        "colab": {
          "base_uri": "https://localhost:8080/"
        },
        "id": "6sMsUNAmtL9f",
        "outputId": "1aa77bd6-3f45-46de-b604-ebad95bd78ab"
      },
      "source": [
        "#Construct following pattern using nested loop.\r\n",
        "#*\r\n",
        "#**\r\n",
        "#***\r\n",
        "#****\r\n",
        "#*****\r\n",
        "#****\r\n",
        "#***\r\n",
        "#**\r\n",
        "#*\r\n",
        "rows=5\r\n",
        "for i in range(0,rows):\r\n",
        "    for j in range(0,i+1):\r\n",
        "        print(\"*\", end=' ')\r\n",
        "    print(\"\\r\")\r\n",
        "\r\n",
        "for i in range(rows,0,-1):\r\n",
        "    for j in range(0,i-1):\r\n",
        "        print(\"*\", end=' ')\r\n",
        "    print(\"\\r\")"
      ],
      "execution_count": 26,
      "outputs": [
        {
          "output_type": "stream",
          "text": [
            "* \r\n",
            "* * \r\n",
            "* * * \r\n",
            "* * * * \r\n",
            "* * * * * \r\n",
            "* * * * \r\n",
            "* * * \r\n",
            "* * \r\n",
            "* \r\n",
            "\r\n"
          ],
          "name": "stdout"
        }
      ]
    },
    {
      "cell_type": "code",
      "metadata": {
        "colab": {
          "base_uri": "https://localhost:8080/"
        },
        "id": "keI1ka3lvDMK",
        "outputId": "15167b02-63e2-497f-8dbf-5e30324e0b61"
      },
      "source": [
        "#Generate all factors of a number\r\n",
        "n=int(input(\"Enter the number:\"))\r\n",
        "print(\"Factors of \",n,\"is:\")\r\n",
        "for i in range(1,n+1):\r\n",
        "    if n%i==0:\r\n",
        "        print(i)"
      ],
      "execution_count": 28,
      "outputs": [
        {
          "output_type": "stream",
          "text": [
            "Enter the number:16\n",
            "Factors of  16 is:\n",
            "1\n",
            "2\n",
            "4\n",
            "8\n",
            "16\n"
          ],
          "name": "stdout"
        }
      ]
    },
    {
      "cell_type": "code",
      "metadata": {
        "colab": {
          "base_uri": "https://localhost:8080/"
        },
        "id": "xJ94vY3vvKlM",
        "outputId": "7bd4b6c4-1e41-475f-bda3-651b20396315"
      },
      "source": [
        "#Write a lamda functions find the area of a square,rectangle and triangle\r\n",
        "#square:\r\n",
        "a=int(input(\"Enter the width:\"))\r\n",
        "x=lambda b: b*b\r\n",
        "print(\"Area of square:\")\r\n",
        "print(x(a))\r\n",
        "#rectangle:\r\n",
        "a=int(input(\"Enter the length:\"))\r\n",
        "b=int(input(\"Enter the width:\"))\r\n",
        "x=lambda a,b: a*b\r\n",
        "print(\"Area of rectangle:\")\r\n",
        "print(x(a,b))\r\n",
        "#triangle:\r\n",
        "a=int(input(\"Enter the length:\"))\r\n",
        "b=int(input(\"Enter the width:\"))\r\n",
        "x=lambda a,b: 0.5*a*b\r\n",
        "print(\"Area of triangle:\")\r\n",
        "print(x(a,b))"
      ],
      "execution_count": 29,
      "outputs": [
        {
          "output_type": "stream",
          "text": [
            "Enter the width:4\n",
            "Area of square:\n",
            "16\n",
            "Enter the length:5\n",
            "Enter the width:3\n",
            "Area of rectangle:\n",
            "15\n",
            "Enter the length:2\n",
            "Enter the width:5\n",
            "Area of triangle:\n",
            "5.0\n"
          ],
          "name": "stdout"
        }
      ]
    }
  ]
}