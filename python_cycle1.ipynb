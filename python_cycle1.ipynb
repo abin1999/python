{
  "nbformat": 4,
  "nbformat_minor": 0,
  "metadata": {
    "colab": {
      "name": "python cycle1.ipynb",
      "provenance": [],
      "collapsed_sections": []
    },
    "kernelspec": {
      "name": "python3",
      "display_name": "Python 3"
    }
  },
  "cells": [
    {
      "cell_type": "code",
      "metadata": {
        "colab": {
          "base_uri": "https://localhost:8080/"
        },
        "id": "BGVDN6B63Mf5",
        "outputId": "78f63f30-fd03-4607-c35a-7a7d836f38f6"
      },
      "source": [
        "#Write a program to demonstrate basic data type in python Hello, World! Program\r\n",
        "\r\n",
        "print(\"Hello, World!\")\r\n"
      ],
      "execution_count": null,
      "outputs": [
        {
          "output_type": "stream",
          "text": [
            "Hello, World!\n"
          ],
          "name": "stdout"
        }
      ]
    },
    {
      "cell_type": "code",
      "metadata": {
        "colab": {
          "base_uri": "https://localhost:8080/"
        },
        "id": "lNivkgAR34TH",
        "outputId": "62cde0f3-7e0b-4c25-a409-28a96a2a490f"
      },
      "source": [
        "#Program to Print an Integer (Entered by the User)\r\n",
        "\r\n",
        "num1 = int(input('Enter the integer  number: '))\r\n",
        "print('The number is {0} '.format(num1))\r\n"
      ],
      "execution_count": null,
      "outputs": [
        {
          "output_type": "stream",
          "text": [
            "Enter the integer  number: 25\n",
            "The number is 25 \n"
          ],
          "name": "stdout"
        }
      ]
    },
    {
      "cell_type": "code",
      "metadata": {
        "colab": {
          "base_uri": "https://localhost:8080/"
        },
        "id": "aNNZq9_w4D7p",
        "outputId": "afdfa806-fd25-4c5e-80c4-32fce9076b95"
      },
      "source": [
        "#Program to add two integers\r\n",
        "\r\n",
        "num1 = input('Enter first number: ')\r\n",
        "num2 = input('Enter second number: ')\r\n",
        "\r\n",
        "# Add two numbers\r\n",
        "sum = int(num1)+int(num2)\r\n",
        "\r\n",
        "# Display the sum\r\n",
        "print(\"sum is\",sum)\r\n"
      ],
      "execution_count": null,
      "outputs": [
        {
          "output_type": "stream",
          "text": [
            "Enter first number: 24\n",
            "Enter second number: 35\n",
            "sum is 59\n"
          ],
          "name": "stdout"
        }
      ]
    },
    {
      "cell_type": "code",
      "metadata": {
        "colab": {
          "base_uri": "https://localhost:8080/"
        },
        "id": "QSeXgQ6y4Ta3",
        "outputId": "c5461e3f-5e79-4b31-c608-348efc513e95"
      },
      "source": [
        "#Program to Multiply Two Floating-Point Numbers\r\n",
        "\r\n",
        "num1 = input('Enter first number: ')\r\n",
        "num2 = input('Enter second number: ')\r\n",
        "\r\n",
        "# Add two numbers\r\n",
        "sum = float(num1)*float(num2)\r\n",
        "\r\n",
        "# Display the sum\r\n",
        "print(\"multiply is\",sum)\r\n"
      ],
      "execution_count": null,
      "outputs": [
        {
          "output_type": "stream",
          "text": [
            "Enter first number: 9\n",
            "Enter second number: 3.6\n",
            "multiply is 32.4\n"
          ],
          "name": "stdout"
        }
      ]
    },
    {
      "cell_type": "code",
      "metadata": {
        "colab": {
          "base_uri": "https://localhost:8080/"
        },
        "id": "2bIpsSrM9dZ5",
        "outputId": "ecc58e4f-bfb0-4892-b5cd-2d7a53934127"
      },
      "source": [
        "#Program to Compute Quotient and Remainder\r\n",
        "\r\n",
        "\r\n",
        "def find(n, m): \r\n",
        "      \r\n",
        "    # for quotient \r\n",
        "    q = n//m \r\n",
        "    print(\"Quotient: \", q) \r\n",
        "      \r\n",
        "    # for remainder \r\n",
        "    r = n%m \r\n",
        "    print(\"Remainder\", r) \r\n",
        "      \r\n",
        "# Driver Code \r\n",
        "find(15, 4) \r\n",
        "find(80, 5)\r\n"
      ],
      "execution_count": null,
      "outputs": [
        {
          "output_type": "stream",
          "text": [
            "Quotient:  3\n",
            "Remainder 3\n",
            "Quotient:  16\n",
            "Remainder 0\n"
          ],
          "name": "stdout"
        }
      ]
    },
    {
      "cell_type": "code",
      "metadata": {
        "id": "i4MjwByH-pqR",
        "colab": {
          "base_uri": "https://localhost:8080/"
        },
        "outputId": "56e5fb1c-b0ef-48f5-f7bb-5e2b84ef36e7"
      },
      "source": [
        "#Program to Swap Two Numbers\r\n",
        "\r\n",
        "x = int(input('enter the value of x   :'))\r\n",
        "y = int(input('enter the value of y  :'))\r\n",
        "\r\n",
        "# create a temporary variable and swap the values\r\n",
        "temp = x\r\n",
        "x = y\r\n",
        "y = temp\r\n",
        "\r\n",
        "print(\"The value of x after swapping:\",x)\r\n",
        "print(\"The value of y after swapping:\",y)\r\n"
      ],
      "execution_count": 2,
      "outputs": [
        {
          "output_type": "stream",
          "text": [
            "enter the value of x   :59\n",
            "enter the value of y  :38\n",
            "The value of x after swapping: 38\n",
            "The value of y after swapping: 59\n"
          ],
          "name": "stdout"
        }
      ]
    },
    {
      "cell_type": "code",
      "metadata": {
        "colab": {
          "base_uri": "https://localhost:8080/"
        },
        "id": "hFb-PnyfT6TY",
        "outputId": "ba1271f7-b4a3-4330-dbf1-e727d160da69"
      },
      "source": [
        "#Program to Check Whether a Number is Even or Odd\r\n",
        "\r\n",
        "num = int(input(\"Enter a number: \"))\r\n",
        "if (num % 2) == 0:\r\n",
        "   print(num,\" is even\")\r\n",
        "else:\r\n",
        "   print(num,\" is odd\")\r\n"
      ],
      "execution_count": 3,
      "outputs": [
        {
          "output_type": "stream",
          "text": [
            "Enter a number: 9\n",
            "9  is odd\n"
          ],
          "name": "stdout"
        }
      ]
    },
    {
      "cell_type": "code",
      "metadata": {
        "colab": {
          "base_uri": "https://localhost:8080/"
        },
        "id": "vMlPsz3BUIv4",
        "outputId": "31572637-2316-463b-8f9b-7d6c215f1727"
      },
      "source": [
        "#Program to Check Whether a Character is a Vowel or Consonant\r\n",
        "\r\n",
        "ch = input(\"Enter a character: \")\r\n",
        "\r\n",
        "if(ch=='A' or ch=='a' or ch=='E' or ch =='e' or ch=='I'\r\n",
        " or ch=='i' or ch=='O' or ch=='o' or ch=='U' or ch=='u'):\r\n",
        "    print(ch, \"is a Vowel\")\r\n",
        "else:\r\n",
        "    print(ch, \"is a Consonant\")\r\n"
      ],
      "execution_count": 5,
      "outputs": [
        {
          "output_type": "stream",
          "text": [
            "Enter a character: e\n",
            "e is a Vowel\n"
          ],
          "name": "stdout"
        }
      ]
    },
    {
      "cell_type": "code",
      "metadata": {
        "colab": {
          "base_uri": "https://localhost:8080/"
        },
        "id": "4d2lMoBbUaNP",
        "outputId": "f6c4bee0-7643-4c78-8968-b1c9a517a0a8"
      },
      "source": [
        "#Program to Find the Largest Number Among Three Numbers\r\n",
        "\r\n",
        "x=int(input('enter the 1st number'))\r\n",
        "y=int(input('enter the 2 nd number'))\r\n",
        "z=int(input('enter the 3 rd number'))\r\n",
        "if (x >= y) and (x >= z):\r\n",
        "   largest = x\r\n",
        "elif (y >= x) and (y >= z):\r\n",
        "   largest = y\r\n",
        "else:\r\n",
        "   largest = z\r\n",
        "   print(\"The largest number is\", largest)\r\n"
      ],
      "execution_count": 6,
      "outputs": [
        {
          "output_type": "stream",
          "text": [
            "enter the 1st number69\n",
            "enter the 2 nd number23\n",
            "enter the 3 rd number78\n",
            "The largest number is 78\n"
          ],
          "name": "stdout"
        }
      ]
    },
    {
      "cell_type": "code",
      "metadata": {
        "colab": {
          "base_uri": "https://localhost:8080/"
        },
        "id": "GRAr1sjRUtkB",
        "outputId": "ee42162d-22a3-4d17-ac9f-8359c3bde250"
      },
      "source": [
        "#Program to Check Leap Year\r\n",
        "\r\n",
        "year = int(input(\"enter the year\"))\r\n",
        "\r\n",
        "# To get year (integer input) from the user\r\n",
        "# year = int(input(\"Enter a year: \"))\r\n",
        "\r\n",
        "if (year % 4) == 0:\r\n",
        "   if (year % 100) == 0:\r\n",
        "       if (year % 400) == 0:\r\n",
        "           print(\"{0} is a leap year\".format(year))\r\n",
        "       else:\r\n",
        "           print(\"{0} is not a leap year\".format(year))\r\n",
        "   else:\r\n",
        "       print(\"{0} is a leap year\".format(year))\r\n",
        "else:\r\n",
        "   print(\"{0} is not a leap year\".format(year))\r\n"
      ],
      "execution_count": 7,
      "outputs": [
        {
          "output_type": "stream",
          "text": [
            "enter the year2021\n",
            "2021 is not a leap year\n"
          ],
          "name": "stdout"
        }
      ]
    },
    {
      "cell_type": "code",
      "metadata": {
        "colab": {
          "base_uri": "https://localhost:8080/"
        },
        "id": "Cub734UQU2J5",
        "outputId": "f87e9740-d89f-454a-aadf-3f3dff663db1"
      },
      "source": [
        "#Program to Check Whether a Number is Positive or Negative\r\n",
        "\r\n",
        "num = float(input(\"Enter a number: \"))\r\n",
        "if num >= 0:\r\n",
        "   if num == 0:\r\n",
        "       print(\"Zero\")\r\n",
        "   else:\r\n",
        "       print(\"Positive number\")\r\n",
        "else:\r\n",
        "   print(\"Negative number\")\r\n",
        " \r\n"
      ],
      "execution_count": 9,
      "outputs": [
        {
          "output_type": "stream",
          "text": [
            "Enter a number: -26\n",
            "Negative number\n"
          ],
          "name": "stdout"
        }
      ]
    },
    {
      "cell_type": "code",
      "metadata": {
        "colab": {
          "base_uri": "https://localhost:8080/"
        },
        "id": "gL4YcXaiVCXv",
        "outputId": "1123450f-6c28-4291-88e5-040520f4a1ac"
      },
      "source": [
        "#Program to Calculate the Sum of Natural Numbers\r\n",
        "\r\n",
        "num = int(input(\"Enter a number: \"))  \r\n",
        "  \r\n",
        "if num < 0:  \r\n",
        "   print(\"Enter a positive number\")  \r\n",
        "else:  \r\n",
        "   sum = 0  \r\n",
        "   # use while loop to iterate until zero  \r\n",
        "   while(num > 0):  \r\n",
        "       sum += num  \r\n",
        "       num -= 1  \r\n",
        "   print(\"The sum is\",sum)\r\n"
      ],
      "execution_count": 13,
      "outputs": [
        {
          "output_type": "stream",
          "text": [
            "Enter a number: 5\n",
            "The sum is 15\n"
          ],
          "name": "stdout"
        }
      ]
    },
    {
      "cell_type": "code",
      "metadata": {
        "colab": {
          "base_uri": "https://localhost:8080/"
        },
        "id": "QWRBNaMdVWeQ",
        "outputId": "eacf57b3-dabd-4836-f1fe-fd6200e47cf1"
      },
      "source": [
        "#Program to Find Factorial of a Number\r\n",
        "\r\n",
        "num =int(input(\"enter a number\"))\r\n",
        "\r\n",
        "# To take input from the user\r\n",
        "#num = int(input(\"Enter a number: \"))\r\n",
        "\r\n",
        "factorial = 1\r\n",
        "\r\n",
        "# check if the number is negative, positive or zero\r\n",
        "if num < 0:\r\n",
        "   print(\"Sorry, factorial does not exist for negative numbers\")\r\n",
        "elif num == 0:\r\n",
        "   print(\"The factorial of 0 is 1\")\r\n",
        "else:\r\n",
        "   for i in range(1,num + 1):\r\n",
        "       factorial = factorial*i\r\n",
        "   print(\"The factorial of\",num,\"is\",factorial)\r\n"
      ],
      "execution_count": 14,
      "outputs": [
        {
          "output_type": "stream",
          "text": [
            "enter a number3\n",
            "The factorial of 3 is 6\n"
          ],
          "name": "stdout"
        }
      ]
    },
    {
      "cell_type": "code",
      "metadata": {
        "colab": {
          "base_uri": "https://localhost:8080/"
        },
        "id": "LUi8-qhcV4h1",
        "outputId": "d397244a-ad5e-4fb3-ad77-49f0811d8030"
      },
      "source": [
        "#Program to Generate Multiplication Table\r\n",
        "\r\n",
        "num = int(input(\"Display multiplication table of? \"))\r\n",
        "\r\n",
        "# Iterate 10 times from i = 1 to 10\r\n",
        "for i in range(1, 11):\r\n",
        "   print(num, 'x', i, '=', num*i)\r\n"
      ],
      "execution_count": 15,
      "outputs": [
        {
          "output_type": "stream",
          "text": [
            "Display multiplication table of? 5\n",
            "5 x 1 = 5\n",
            "5 x 2 = 10\n",
            "5 x 3 = 15\n",
            "5 x 4 = 20\n",
            "5 x 5 = 25\n",
            "5 x 6 = 30\n",
            "5 x 7 = 35\n",
            "5 x 8 = 40\n",
            "5 x 9 = 45\n",
            "5 x 10 = 50\n"
          ],
          "name": "stdout"
        }
      ]
    },
    {
      "cell_type": "code",
      "metadata": {
        "colab": {
          "base_uri": "https://localhost:8080/"
        },
        "id": "-yFFPXqwWPiL",
        "outputId": "5fbb6f51-612c-486b-e772-12beca44cb6f"
      },
      "source": [
        "#Program to Display Fibonacci Sequence\r\n",
        "\r\n",
        "nterms = int(input(\"How many terms? \"))\r\n",
        "\r\n",
        "# first two terms\r\n",
        "n1, n2 = 0, 1\r\n",
        "count = 0\r\n",
        "\r\n",
        "# check if the number of terms is valid\r\n",
        "if nterms <= 0:\r\n",
        "   print(\"Please enter a positive integer\")\r\n",
        "elif nterms == 1:\r\n",
        "   print(\"Fibonacci sequence upto\",nterms,\":\")\r\n",
        "   print(n1)\r\n",
        "else:\r\n",
        "   print(\"Fibonacci sequence:\")\r\n",
        "   while count < nterms:\r\n",
        "       print(n1)\r\n",
        "       nth = n1 + n2\r\n",
        "       # update values\r\n",
        "       n1 = n2\r\n",
        "       n2 = nth\r\n",
        "       count += 1\r\n"
      ],
      "execution_count": 16,
      "outputs": [
        {
          "output_type": "stream",
          "text": [
            "How many terms? 4\n",
            "Fibonacci sequence:\n",
            "0\n",
            "1\n",
            "1\n",
            "2\n"
          ],
          "name": "stdout"
        }
      ]
    },
    {
      "cell_type": "code",
      "metadata": {
        "colab": {
          "base_uri": "https://localhost:8080/"
        },
        "id": "-rWYTnF6WZSW",
        "outputId": "df5e5e20-39bb-4b33-ef29-2259aededb1a"
      },
      "source": [
        "#Program to Find LCM of two Numbers\r\n",
        "\r\n",
        "def compute_lcm(x, y):\r\n",
        "\r\n",
        "   # choose the greater number\r\n",
        "   if x > y:\r\n",
        "       greater = x\r\n",
        "   else:\r\n",
        "       greater = y\r\n",
        "\r\n",
        "   while(True):\r\n",
        "       if((greater % x == 0) and (greater % y == 0)):\r\n",
        "           lcm = greater\r\n",
        "           break\r\n",
        "       greater += 1\r\n",
        "\r\n",
        "   return lcm\r\n",
        "\r\n",
        "num1 = int(input(\" 1 st number\"))\r\n",
        "num2 = int(input(\" 2 st number\"))\r\n",
        "\r\n",
        "print(\"The L.C.M. is\", compute_lcm(num1, num2))\r\n"
      ],
      "execution_count": 19,
      "outputs": [
        {
          "output_type": "stream",
          "text": [
            " 1 st number58\n",
            " 2 st number62\n",
            "The L.C.M. is 1798\n"
          ],
          "name": "stdout"
        }
      ]
    },
    {
      "cell_type": "code",
      "metadata": {
        "colab": {
          "base_uri": "https://localhost:8080/"
        },
        "id": "j9gcjhcaWuSZ",
        "outputId": "ef169cdf-42d5-4d48-bc93-ef9ab845cb9c"
      },
      "source": [
        "#Program to Count Number of Digits in an Integer\r\n",
        "\r\n",
        " \r\n",
        "# number of digits in a number\r\n",
        "\r\n",
        "def countDigit(n):\r\n",
        "    count = 0\r\n",
        "    while n != 0:\r\n",
        "        n //= 10\r\n",
        "        count += 1\r\n",
        "    return count\r\n",
        " \r\n",
        " \r\n",
        "# Driver Code\r\n",
        "n = int(input(\"enter the number\"))\r\n",
        "print(\"Number of digits : % d\" % (countDigit(n)))\r\n"
      ],
      "execution_count": 20,
      "outputs": [
        {
          "output_type": "stream",
          "text": [
            "enter the number5469\n",
            "Number of digits :  4\n"
          ],
          "name": "stdout"
        }
      ]
    },
    {
      "cell_type": "code",
      "metadata": {
        "colab": {
          "base_uri": "https://localhost:8080/"
        },
        "id": "bXojcm0EXOr-",
        "outputId": "431b69b1-5604-494f-d99d-8add5c33fe50"
      },
      "source": [
        "#Program to Reverse a Number\r\n",
        "\r\n",
        "Number = int(input(\"Please Enter any Number: \"))\r\n",
        "Reverse = 0.\r\n",
        "while(Number > 0):\r\n",
        " Reminder = Number % 10\r\n",
        " Reverse = (Reverse *10) + Reminder\r\n",
        " Number = Number //10\r\n",
        " print(\"\\n Reverse of entered number is = %d\" %Reverse)\r\n"
      ],
      "execution_count": 22,
      "outputs": [
        {
          "output_type": "stream",
          "text": [
            "Please Enter any Number: 1234\n",
            "\n",
            " Reverse of entered number is = 4\n",
            "\n",
            " Reverse of entered number is = 43\n",
            "\n",
            " Reverse of entered number is = 432\n",
            "\n",
            " Reverse of entered number is = 4321\n"
          ],
          "name": "stdout"
        }
      ]
    },
    {
      "cell_type": "code",
      "metadata": {
        "colab": {
          "base_uri": "https://localhost:8080/"
        },
        "id": "_rhmuNgVXYTD",
        "outputId": "0dd88b2e-19b5-4d0f-bc14-65ac74592286"
      },
      "source": [
        "#Program to Calculate the Power of a Number\r\n",
        "\r\n",
        "base_number = int(input(\"Enter the base number\"))\r\n",
        "exponent = int(input(\"Enter the exponent\"))\r\n",
        "\r\n",
        "power = base_number ** exponent\r\n",
        "print(\"Result is =\",power)\r\n"
      ],
      "execution_count": 23,
      "outputs": [
        {
          "output_type": "stream",
          "text": [
            "Enter the base number4\n",
            "Enter the exponent2\n",
            "Result is = 16\n"
          ],
          "name": "stdout"
        }
      ]
    },
    {
      "cell_type": "code",
      "metadata": {
        "colab": {
          "base_uri": "https://localhost:8080/"
        },
        "id": "_Pi5ELNlXmom",
        "outputId": "72dee592-1c0e-40b2-d2d5-5e114c37692b"
      },
      "source": [
        "#Program to Check Whether a Number is Palindrome\r\n",
        "\r\n",
        "n=int(input(\"Enter number:\")) \r\n",
        "temp=n\r\n",
        "rev=0 \r\n",
        "while(n>0): \r\n",
        "  dig=n%10 \r\n",
        "  rev=rev*10+dig \r\n",
        "  n=n//10 \r\n",
        "if(temp==rev):\r\n",
        "   print(\"The given number is a palindrome!\") \r\n",
        "else: \r\n",
        "  print(\"The given number is not a palindrome!\")\r\n"
      ],
      "execution_count": 25,
      "outputs": [
        {
          "output_type": "stream",
          "text": [
            "Enter number:9\n",
            "The given number is a palindrome!\n"
          ],
          "name": "stdout"
        }
      ]
    }
  ]
}